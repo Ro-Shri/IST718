{
  "nbformat": 4,
  "nbformat_minor": 0,
  "metadata": {
    "kernelspec": {
      "display_name": "Python 3.5 with Spark 2.1",
      "name": "python3-spark21",
      "language": "python"
    },
    "language_info": {
      "mimetype": "text/x-python",
      "nbconvert_exporter": "python",
      "version": "3.5.4",
      "name": "python",
      "file_extension": ".py",
      "pygments_lexer": "ipython3",
      "codemirror_mode": {
        "version": 3,
        "name": "ipython"
      }
    },
    "colab": {
      "name": "MNISTwithKeras.ipynb",
      "provenance": []
    }
  },
  "cells": [
    {
      "cell_type": "code",
      "metadata": {
        "id": "KqoXzgoDc2Bq"
      },
      "source": [
        "import matplotlib.pyplot as plt\n",
        "import numpy as np\n",
        "import pandas\n",
        "\n",
        "from keras.datasets import mnist\n",
        "from keras.models import Sequential\n",
        "from keras.layers import Dense\n",
        "from keras.layers import Dropout\n",
        "from keras.layers import Flatten\n",
        "from keras.layers.convolutional import Conv2D\n",
        "from keras.layers.convolutional import MaxPooling2D\n",
        "from keras.utils import np_utils\n",
        "import tensorflow as tf\n",
        "\n",
        "from sklearn.naive_bayes import GaussianNB\n",
        "from sklearn.metrics import accuracy_score\n",
        "from sklearn.neighbors import KNeighborsClassifier\n",
        "\n",
        "from keras import backend as K\n",
        "import sklearn\n",
        "\n",
        "import time\n",
        "%matplotlib inline"
      ],
      "execution_count": 2,
      "outputs": []
    },
    {
      "cell_type": "code",
      "metadata": {
        "colab": {
          "base_uri": "https://localhost:8080/"
        },
        "id": "FUChIPCtc2Bt",
        "outputId": "564d4729-4785-41e4-c406-dbe03fcb3ebe"
      },
      "source": [
        "#Downloading the fashion mnist dataset\n",
        "\n",
        "(x_train, y_train), (x_test, y_test) = tf.keras.datasets.fashion_mnist.load_data()\n",
        "\n",
        "print('Train Rows: %d, columns: %d' % (x_train.shape[0], x_train.shape[1]))\n",
        "\n",
        "print('Test Rows: %d, columns: %d' % (x_test.shape[0], x_test.shape[1]))"
      ],
      "execution_count": 25,
      "outputs": [
        {
          "output_type": "stream",
          "text": [
            "Train Rows: 60000, columns: 28\n",
            "Test Rows: 10000, columns: 28\n"
          ],
          "name": "stdout"
        }
      ]
    },
    {
      "cell_type": "code",
      "metadata": {
        "colab": {
          "base_uri": "https://localhost:8080/"
        },
        "id": "AQ1GfCv7c2Bt",
        "outputId": "76f2e59f-9cec-45e9-db4b-5c26e3212262"
      },
      "source": [
        "#convert to vectors - taken from Week 9 Breakout \n",
        "\n",
        "num_pixels = x_train.shape[1] * x_train.shape[2]\n",
        "x_train = x_train.reshape(x_train.shape[0], num_pixels).astype('float32')\n",
        "x_test = x_test.reshape(x_test.shape[0], num_pixels).astype('float32')\n",
        "\n",
        "print('Rows: %d, columns: %d' % (x_train.shape[0], x_train.shape[1]))\n",
        "\n",
        "print('Rows: %d, columns: %d' % (x_test.shape[0], x_test.shape[1]))"
      ],
      "execution_count": 26,
      "outputs": [
        {
          "output_type": "stream",
          "text": [
            "Rows: 60000, columns: 784\n",
            "Rows: 10000, columns: 784\n"
          ],
          "name": "stdout"
        }
      ]
    },
    {
      "cell_type": "code",
      "metadata": {
        "colab": {
          "base_uri": "https://localhost:8080/",
          "height": 297
        },
        "id": "ophDhKCvc2Bt",
        "outputId": "3e828598-15ca-4052-b4c5-9cefac60c537"
      },
      "source": [
        "#visualizing the image set\n",
        "fig, ax = plt.subplots(nrows=3, ncols=3, sharex=True, sharey=True,)\n",
        "ax = ax.flatten()\n",
        "for i in range(9):\n",
        "    img = x_train[y_train ==3][i].reshape(28, 28)\n",
        "    ax[i].imshow(img, interpolation='nearest')\n",
        "\n",
        "ax[0].set_xticks([])\n",
        "ax[0].set_yticks([])\n",
        "plt.tight_layout()"
      ],
      "execution_count": 27,
      "outputs": [
        {
          "output_type": "display_data",
          "data": {
            "image/png": "[encoded data removed]",
            "text/plain": [
              "<Figure size 432x288 with 9 Axes>"
            ]
          },
          "metadata": {
            "tags": []
          }
        }
      ]
    },
    {
      "cell_type": "code",
      "metadata": {
        "id": "HM8mqvhgc2Bu"
      },
      "source": [
        "# SCRUB - TRANSFORM - N\n",
        "\n",
        "x_train = x_train / 255\n",
        "x_test = x_test / 255"
      ],
      "execution_count": 10,
      "outputs": []
    },
    {
      "cell_type": "code",
      "metadata": {
        "id": "kCDupgKBc2Bu"
      },
      "source": [
        "# SCRUB - TRANSFORM FROM VECTOR TO BINARY MATRIX\n",
        "\n",
        "y_train = np_utils.to_categorical(y_train)\n",
        "y_test = np_utils.to_categorical(y_test)\n",
        "num_classes = y_test.shape[1]"
      ],
      "execution_count": 11,
      "outputs": []
    },
    {
      "cell_type": "code",
      "metadata": {
        "id": "kfCVxR4Pc2Bu"
      },
      "source": [
        "# MODEL - BUILD BASE MODEL FOR MLP\n",
        "\n",
        "def baseline_model():\n",
        "    # create model\n",
        "    model = Sequential()\n",
        "    model.add(Dense(num_pixels, input_dim=num_pixels, kernel_initializer='normal', activation='relu'))\n",
        "    model.add(Dense(num_classes, kernel_initializer='normal', activation='softmax'))\n",
        "    # Compile model\n",
        "    model.compile(loss='categorical_crossentropy', optimizer='adam', metrics=['accuracy'])\n",
        "    return model"
      ],
      "execution_count": 12,
      "outputs": []
    },
    {
      "cell_type": "code",
      "metadata": {
        "colab": {
          "base_uri": "https://localhost:8080/"
        },
        "id": "p_ERcWskc2Bu",
        "outputId": "e118dd85-e6ee-4e85-bb3c-de42f01f12e5"
      },
      "source": [
        "# MODEL - FIT THE BASE MODEL\n",
        "\n",
        "start = time.time()  # TRACK TIME\n",
        "\n",
        "model = baseline_model()\n",
        "history = model.fit(x_train, y_train, validation_data=(x_test, y_test), epochs=10, batch_size=200, verbose=2)\n",
        "\n",
        "# MODEL - RESULTS\n",
        "\n",
        "scores = model.evaluate(x_test, y_test, verbose=0)\n",
        "print(\"Baseline Error: %.2f%%\" % (100-scores[1]*100))\n",
        "\n",
        "end = time.time()\n",
        "final_time = end-start\n",
        "print(final_time)  # RUN TIME OF BLOCK"
      ],
      "execution_count": 13,
      "outputs": [
        {
          "output_type": "stream",
          "text": [
            "Epoch 1/10\n",
            "300/300 - 5s - loss: 0.5076 - accuracy: 0.8240 - val_loss: 0.4384 - val_accuracy: 0.8448\n",
            "Epoch 2/10\n",
            "300/300 - 5s - loss: 0.3739 - accuracy: 0.8663 - val_loss: 0.3741 - val_accuracy: 0.8693\n",
            "Epoch 3/10\n",
            "300/300 - 5s - loss: 0.3342 - accuracy: 0.8799 - val_loss: 0.3732 - val_accuracy: 0.8669\n",
            "Epoch 4/10\n",
            "300/300 - 5s - loss: 0.3070 - accuracy: 0.8891 - val_loss: 0.3456 - val_accuracy: 0.8778\n",
            "Epoch 5/10\n",
            "300/300 - 5s - loss: 0.2849 - accuracy: 0.8951 - val_loss: 0.3488 - val_accuracy: 0.8730\n",
            "Epoch 6/10\n",
            "300/300 - 5s - loss: 0.2691 - accuracy: 0.9024 - val_loss: 0.3409 - val_accuracy: 0.8763\n",
            "Epoch 7/10\n",
            "300/300 - 5s - loss: 0.2549 - accuracy: 0.9062 - val_loss: 0.3247 - val_accuracy: 0.8830\n",
            "Epoch 8/10\n",
            "300/300 - 5s - loss: 0.2435 - accuracy: 0.9101 - val_loss: 0.3261 - val_accuracy: 0.8830\n",
            "Epoch 9/10\n",
            "300/300 - 5s - loss: 0.2320 - accuracy: 0.9144 - val_loss: 0.3195 - val_accuracy: 0.8854\n",
            "Epoch 10/10\n",
            "300/300 - 5s - loss: 0.2231 - accuracy: 0.9176 - val_loss: 0.3192 - val_accuracy: 0.8853\n",
            "Baseline Error: 11.47%\n",
            "50.120245695114136\n"
          ],
          "name": "stdout"
        }
      ]
    },
    {
      "cell_type": "code",
      "metadata": {
        "colab": {
          "base_uri": "https://localhost:8080/",
          "height": 651
        },
        "id": "qhmPrORYFPxh",
        "outputId": "72edf891-b526-4998-b705-7bbdf75e94a6"
      },
      "source": [
        "def plot_train_curve(history):\n",
        "    colors = ['#e66101','#fdb863','#b2abd2','#5e3c99']\n",
        "    accuracy = history.history['accuracy']\n",
        "    val_accuracy = history.history['val_accuracy']\n",
        "    loss = history.history['loss']\n",
        "    val_loss = history.history['val_loss']\n",
        "    epochs = range(len(accuracy))\n",
        "    with plt.style.context(\"ggplot\"):\n",
        "        plt.figure(figsize=(8, 8/1.618))\n",
        "        plt.plot(epochs, accuracy, marker='o', c=colors[3], label='Training accuracy')\n",
        "        plt.plot(epochs, val_accuracy, c=colors[0], label='Validation accuracy')\n",
        "        plt.title('Training and validation accuracy')\n",
        "        plt.legend()\n",
        "        plt.figure(figsize=(8, 8/1.618))\n",
        "        plt.plot(epochs, loss, marker='o', c=colors[3], label='Training loss')\n",
        "        plt.plot(epochs, val_loss, c=colors[0], label='Validation loss')\n",
        "        plt.title('Training and validation loss')\n",
        "        plt.legend()\n",
        "        plt.show()\n",
        "    \n",
        "plot_train_curve(history)"
      ],
      "execution_count": 17,
      "outputs": [
        {
          "output_type": "display_data",
          "data": {
            "image/png": "[encoded data removed]",
            "text/plain": [
              "<Figure size 576x355.995 with 1 Axes>"
            ]
          },
          "metadata": {
            "tags": []
          }
        },
        {
          "output_type": "display_data",
          "data": {
            "image/png": "[encoded data removed]",
            "text/plain": [
              "<Figure size 576x355.995 with 1 Axes>"
            ]
          },
          "metadata": {
            "tags": []
          }
        }
      ]
    },
    {
      "cell_type": "markdown",
      "metadata": {
        "id": "3fyBjtFAUxkr"
      },
      "source": [
        "BAYES"
      ]
    },
    {
      "cell_type": "code",
      "metadata": {
        "id": "2zjMmIyxUwmO"
      },
      "source": [
        "# MODEL\n",
        "\n",
        "# Initialize our classifier\n",
        "gnb = GaussianNB()\n",
        "\n",
        "start = time.time()  # TRACK TIME\n",
        "\n",
        "# create the model\n",
        "model = gnb.fit(x_train, y_train)\n"
      ],
      "execution_count": 29,
      "outputs": []
    },
    {
      "cell_type": "code",
      "metadata": {
        "colab": {
          "base_uri": "https://localhost:8080/"
        },
        "id": "aDaj6wAgVEt6",
        "outputId": "855c7e5c-eef0-4952-9ebc-182f2b2fc96d"
      },
      "source": [
        "\n",
        "# Make predictions\n",
        "preds = gnb.predict(x_test)\n",
        "print(preds)\n",
        "# Evaluate accuracy\n",
        "end = time.time()\n",
        "final_time = end-start\n",
        "print(final_time)  # RUN TIME OF BLOCK\n",
        "bayes = accuracy_score(y_test, preds)\n",
        "print(bayes)\n"
      ],
      "execution_count": 30,
      "outputs": [
        {
          "output_type": "stream",
          "text": [
            "[7 4 1 ... 3 1 7]\n",
            "2.978494644165039\n",
            "0.5856\n"
          ],
          "name": "stdout"
        }
      ]
    },
    {
      "cell_type": "code",
      "metadata": {
        "colab": {
          "base_uri": "https://localhost:8080/"
        },
        "id": "r8HaArOnVIbf",
        "outputId": "d628d15d-0782-488a-aeb4-1b0512fd4ae2"
      },
      "source": [
        "\n",
        "expected = y_test\n",
        "predicted = preds\n",
        "print(sklearn.metrics.confusion_matrix(expected, predicted))"
      ],
      "execution_count": 32,
      "outputs": [
        {
          "output_type": "stream",
          "text": [
            "[[586  64  29 162 110   0  20   0  29   0]\n",
            " [  1 939  14  36   7   0   1   0   2   0]\n",
            " [  7  14 324  65 545   0  23   0  22   0]\n",
            " [  9 387   6 545  43   0   4   0   6   0]\n",
            " [  0  34  44 131 779   0   4   0   8   0]\n",
            " [  0   0   1   1   0 278   3 660   5  52]\n",
            " [117  34 112 200 435   0  40   0  62   0]\n",
            " [  0   0   0   0   0   3   0 988   0   9]\n",
            " [  0   2  19  85 149   3  27   4 710   1]\n",
            " [  0   0   1   1   0  16   3 304   8 667]]\n"
          ],
          "name": "stdout"
        }
      ]
    },
    {
      "cell_type": "code",
      "metadata": {
        "id": "nYBCBH0jZF47"
      },
      "source": [
        "neigh = KNeighborsClassifier(n_neighbors=3)\n",
        "neigh.fit(x_train, y_train)\n",
        "neigh.score(x_train, y_train)"
      ],
      "execution_count": null,
      "outputs": []
    },
    {
      "cell_type": "code",
      "metadata": {
        "colab": {
          "base_uri": "https://localhost:8080/"
        },
        "id": "5p8FyTw2Z1xx",
        "outputId": "5f742146-78bc-4af6-976a-802beec7abd7"
      },
      "source": [
        "from sklearn.ensemble import RandomForestClassifier \n",
        "start = time.time()  # TRACK TIME\n",
        "\n",
        "forest = RandomForestClassifier(n_estimators = 100)\n",
        "forest.fit(x_train, y_train)\n",
        "print('Score: ', forest.score(x_test, y_test))\n",
        "predictions = forest.predict(x_test)\n",
        "forest = accuracy_score(y_test, predictions)\n",
        "print(forest)\n",
        "end = time.time()\n",
        "final_time = end-start\n",
        "print(final_time)"
      ],
      "execution_count": 34,
      "outputs": [
        {
          "output_type": "stream",
          "text": [
            "Score:  0.876\n",
            "0.876\n",
            "100.74703049659729\n"
          ],
          "name": "stdout"
        }
      ]
    },
    {
      "cell_type": "code",
      "metadata": {
        "colab": {
          "base_uri": "https://localhost:8080/",
          "height": 352
        },
        "id": "BpIol9xpJRHe",
        "outputId": "be28effc-07d5-4bb3-d37d-d8829586d838"
      },
      "source": [
        "fig = plt.figure()\n",
        "ax = fig.add_axes([0,0,1,1])\n",
        "Type = ['Forest', 'Bayes', 'Karas']\n",
        "accuracy = [.876,.5856,.9168]\n",
        "ax.bar(Type,accuracy)\n",
        "plt.title('Accuracy of Each Model')\n",
        "plt.show()"
      ],
      "execution_count": 36,
      "outputs": [
        {
          "output_type": "display_data",
          "data": {
            "image/png": "[encoded data removed]",
            "text/plain": [
              "<Figure size 432x288 with 1 Axes>"
            ]
          },
          "metadata": {
            "tags": [],
            "needs_background": "light"
          }
        }
      ]
    }
  ]
}